{
  "nbformat": 4,
  "nbformat_minor": 0,
  "metadata": {
    "colab": {
      "provenance": [],
      "gpuType": "T4",
      "authorship_tag": "ABX9TyPyLY6yf9NxIaJ2Q3QH+ce/",
      "include_colab_link": true
    },
    "kernelspec": {
      "name": "python3",
      "display_name": "Python 3"
    },
    "language_info": {
      "name": "python"
    },
    "accelerator": "GPU"
  },
  "cells": [
    {
      "cell_type": "markdown",
      "metadata": {
        "id": "view-in-github",
        "colab_type": "text"
      },
      "source": [
        "<a href=\"https://colab.research.google.com/github/bhas10bc/Deep_learning-models/blob/main/image_classification_CIFAR_10.ipynb\" target=\"_parent\"><img src=\"https://colab.research.google.com/assets/colab-badge.svg\" alt=\"Open In Colab\"/></a>"
      ]
    },
    {
      "cell_type": "markdown",
      "source": [
        "# Import dependencies"
      ],
      "metadata": {
        "id": "-Fpz_bAWTyPh"
      }
    },
    {
      "cell_type": "code",
      "execution_count": 13,
      "metadata": {
        "id": "3XCcpWrKTgRa"
      },
      "outputs": [],
      "source": [
        "import tensorflow as tf\n",
        "from tensorflow.keras import layers, models\n",
        "from tensorflow.keras.optimizers import Adam\n",
        "from tensorflow.keras.datasets import cifar10\n",
        "from tensorflow.keras.utils import to_categorical\n",
        "import numpy as np"
      ]
    },
    {
      "cell_type": "markdown",
      "source": [
        "# Load and preprocess the dataset"
      ],
      "metadata": {
        "id": "5qse4cxNUgLK"
      }
    },
    {
      "cell_type": "code",
      "source": [
        "# The data, shuffled and split between train and test sets:\n",
        "(x_train, y_train), (x_test, y_test) = cifar10.load_data()\n",
        "print('x_train shape:', x_train.shape)\n",
        "print(x_train.shape[0], 'train samples')\n",
        "print(x_test.shape[0], 'test samples')\n",
        "\n",
        "# Convert class vectors to binary class matrices.\n",
        "y_train = to_categorical(y_train, 10)\n",
        "y_test = to_categorical(y_test, 10)"
      ],
      "metadata": {
        "colab": {
          "base_uri": "https://localhost:8080/"
        },
        "id": "yKv_TXqrUen5",
        "outputId": "0e141aff-60f9-47fa-81a1-2f54f992f968"
      },
      "execution_count": 14,
      "outputs": [
        {
          "output_type": "stream",
          "name": "stdout",
          "text": [
            "x_train shape: (50000, 32, 32, 3)\n",
            "50000 train samples\n",
            "10000 test samples\n"
          ]
        }
      ]
    },
    {
      "cell_type": "code",
      "source": [
        "x_test.shape"
      ],
      "metadata": {
        "colab": {
          "base_uri": "https://localhost:8080/"
        },
        "id": "Fwzs0V5FV0gW",
        "outputId": "8f2e228d-6127-4ae3-f63e-840ef697ebfc"
      },
      "execution_count": 15,
      "outputs": [
        {
          "output_type": "execute_result",
          "data": {
            "text/plain": [
              "(10000, 32, 32, 3)"
            ]
          },
          "metadata": {},
          "execution_count": 15
        }
      ]
    },
    {
      "cell_type": "markdown",
      "source": [
        "# Data augmentation"
      ],
      "metadata": {
        "id": "7J2yjA29eVPQ"
      }
    },
    {
      "cell_type": "code",
      "source": [
        "from tensorflow.keras.preprocessing.image import ImageDataGenerator"
      ],
      "metadata": {
        "id": "WZvidXbXeZGo"
      },
      "execution_count": 16,
      "outputs": []
    },
    {
      "cell_type": "code",
      "source": [
        "datagen = ImageDataGenerator(\n",
        "    rotation_range=40,\n",
        "    width_shift_range=0.2,\n",
        "    height_shift_range=0.2,\n",
        "    shear_range=0.2,\n",
        "    zoom_range=0.2,\n",
        "    horizontal_flip=True,\n",
        "    fill_mode='nearest'\n",
        ")\n",
        "\n",
        "datagen.fit(x_train)"
      ],
      "metadata": {
        "id": "d9cxJYvKek0_"
      },
      "execution_count": 17,
      "outputs": []
    },
    {
      "cell_type": "markdown",
      "source": [
        "# Define the model"
      ],
      "metadata": {
        "id": "VjE_HyxhVprn"
      }
    },
    {
      "cell_type": "code",
      "source": [
        "model = models.Sequential()\n",
        "\n",
        "model.add(layers.Conv2D(32,(3,3), padding = 'same', input_shape = x_train.shape[1:]))\n",
        "model.add(layers.Activation('relu'))\n",
        "\n",
        "model.add(layers.Conv2D(48, (3,3), padding = 'same'))\n",
        "model.add(layers.Activation('relu'))\n",
        "model.add(layers.MaxPooling2D(pool_size=(2,2)))\n",
        "model.add(layers.Dropout(0.25))\n",
        "\n",
        "model.add(layers.Conv2D(80, (3,3,), padding = 'same'))\n",
        "model.add(layers.Activation('relu'))\n",
        "model.add(layers.MaxPooling2D(pool_size=(2,2)))\n",
        "model.add(layers.Dropout(0.25))\n",
        "\n",
        "model.add(layers.Conv2D(128, (3,3), padding = \"same\"))\n",
        "model.add(layers.Activation('relu'))\n",
        "model.add(layers.GlobalMaxPool2D())\n",
        "model.add(layers.Dropout(0.25))\n",
        "\n",
        "model.add(layers.Dense(500))\n",
        "model.add(layers.Activation('relu'))\n",
        "model.add(layers.Dropout(0.25))\n",
        "\n",
        "model.add(layers.Dense(10))\n",
        "model.add(layers.Activation(\"softmax\"))"
      ],
      "metadata": {
        "id": "_6N4TfmFVrxG"
      },
      "execution_count": 18,
      "outputs": []
    },
    {
      "cell_type": "markdown",
      "source": [
        "# compile the model"
      ],
      "metadata": {
        "id": "aRznCvD7YnjY"
      }
    },
    {
      "cell_type": "code",
      "source": [
        "model.compile(loss = 'categorical_crossentropy',\n",
        "              optimizer = 'Adam',\n",
        "              metrics = ['accuracy'])"
      ],
      "metadata": {
        "id": "GZP0P5w_Yp1o"
      },
      "execution_count": 19,
      "outputs": []
    },
    {
      "cell_type": "markdown",
      "source": [
        "# Summary of the model"
      ],
      "metadata": {
        "id": "PSphMyJvY9hQ"
      }
    },
    {
      "cell_type": "code",
      "source": [
        "model.summary()"
      ],
      "metadata": {
        "colab": {
          "base_uri": "https://localhost:8080/"
        },
        "id": "LBDrY8AxY_mC",
        "outputId": "2138a112-63f2-4681-890d-0fd51bfaa357"
      },
      "execution_count": 20,
      "outputs": [
        {
          "output_type": "stream",
          "name": "stdout",
          "text": [
            "Model: \"sequential_1\"\n",
            "_________________________________________________________________\n",
            " Layer (type)                Output Shape              Param #   \n",
            "=================================================================\n",
            " conv2d_4 (Conv2D)           (None, 32, 32, 32)        896       \n",
            "                                                                 \n",
            " activation_6 (Activation)   (None, 32, 32, 32)        0         \n",
            "                                                                 \n",
            " conv2d_5 (Conv2D)           (None, 32, 32, 48)        13872     \n",
            "                                                                 \n",
            " activation_7 (Activation)   (None, 32, 32, 48)        0         \n",
            "                                                                 \n",
            " max_pooling2d_2 (MaxPoolin  (None, 16, 16, 48)        0         \n",
            " g2D)                                                            \n",
            "                                                                 \n",
            " dropout_4 (Dropout)         (None, 16, 16, 48)        0         \n",
            "                                                                 \n",
            " conv2d_6 (Conv2D)           (None, 16, 16, 80)        34640     \n",
            "                                                                 \n",
            " activation_8 (Activation)   (None, 16, 16, 80)        0         \n",
            "                                                                 \n",
            " max_pooling2d_3 (MaxPoolin  (None, 8, 8, 80)          0         \n",
            " g2D)                                                            \n",
            "                                                                 \n",
            " dropout_5 (Dropout)         (None, 8, 8, 80)          0         \n",
            "                                                                 \n",
            " conv2d_7 (Conv2D)           (None, 8, 8, 128)         92288     \n",
            "                                                                 \n",
            " activation_9 (Activation)   (None, 8, 8, 128)         0         \n",
            "                                                                 \n",
            " global_max_pooling2d_1 (Gl  (None, 128)               0         \n",
            " obalMaxPooling2D)                                               \n",
            "                                                                 \n",
            " dropout_6 (Dropout)         (None, 128)               0         \n",
            "                                                                 \n",
            " dense_2 (Dense)             (None, 500)               64500     \n",
            "                                                                 \n",
            " activation_10 (Activation)  (None, 500)               0         \n",
            "                                                                 \n",
            " dropout_7 (Dropout)         (None, 500)               0         \n",
            "                                                                 \n",
            " dense_3 (Dense)             (None, 10)                5010      \n",
            "                                                                 \n",
            " activation_11 (Activation)  (None, 10)                0         \n",
            "                                                                 \n",
            "=================================================================\n",
            "Total params: 211206 (825.02 KB)\n",
            "Trainable params: 211206 (825.02 KB)\n",
            "Non-trainable params: 0 (0.00 Byte)\n",
            "_________________________________________________________________\n"
          ]
        }
      ]
    },
    {
      "cell_type": "code",
      "source": [
        "x_train = x_train.astype('float32')\n",
        "x_test = x_test.astype('float32')\n",
        "x_train /= 255\n",
        "x_test /= 255"
      ],
      "metadata": {
        "id": "4plG1VXnb0ik"
      },
      "execution_count": 21,
      "outputs": []
    },
    {
      "cell_type": "markdown",
      "source": [
        "# EarlyStopping"
      ],
      "metadata": {
        "id": "qaHYx1Uvfpnn"
      }
    },
    {
      "cell_type": "code",
      "source": [
        "from tensorflow.keras.callbacks import EarlyStopping"
      ],
      "metadata": {
        "id": "eQZ7bqeKfsLf"
      },
      "execution_count": 22,
      "outputs": []
    },
    {
      "cell_type": "code",
      "source": [
        "early_stopping = EarlyStopping(monitor='val_loss', patience=10, restore_best_weights=True)"
      ],
      "metadata": {
        "id": "Bjgg6Ws0fyt4"
      },
      "execution_count": 23,
      "outputs": []
    },
    {
      "cell_type": "markdown",
      "source": [
        "# Train the model"
      ],
      "metadata": {
        "id": "CLmVBEw-ZNrL"
      }
    },
    {
      "cell_type": "code",
      "source": [
        "history = model.fit(datagen.flow(x_train, y_train, batch_size=128),steps_per_epoch=len(x_train) / 128, epochs=50, validation_data=(x_test, y_test), callbacks = [early_stopping])\n"
      ],
      "metadata": {
        "colab": {
          "base_uri": "https://localhost:8080/"
        },
        "id": "clgoz0bEZPwa",
        "outputId": "8c58dac3-c64e-4a3f-c523-f67c821e0f7f"
      },
      "execution_count": 24,
      "outputs": [
        {
          "output_type": "stream",
          "name": "stdout",
          "text": [
            "Epoch 1/50\n",
            "390/390 [==============================] - 38s 92ms/step - loss: 1.9719 - accuracy: 0.2571 - val_loss: 1.6382 - val_accuracy: 0.4084\n",
            "Epoch 2/50\n",
            "390/390 [==============================] - 37s 95ms/step - loss: 1.6708 - accuracy: 0.3865 - val_loss: 1.5019 - val_accuracy: 0.4543\n",
            "Epoch 3/50\n",
            "390/390 [==============================] - 35s 90ms/step - loss: 1.5262 - accuracy: 0.4475 - val_loss: 1.3661 - val_accuracy: 0.4975\n",
            "Epoch 4/50\n",
            "390/390 [==============================] - 36s 91ms/step - loss: 1.4361 - accuracy: 0.4818 - val_loss: 1.2811 - val_accuracy: 0.5265\n",
            "Epoch 5/50\n",
            "390/390 [==============================] - 36s 91ms/step - loss: 1.3797 - accuracy: 0.5024 - val_loss: 1.1624 - val_accuracy: 0.5813\n",
            "Epoch 6/50\n",
            "390/390 [==============================] - 36s 92ms/step - loss: 1.3377 - accuracy: 0.5192 - val_loss: 1.2354 - val_accuracy: 0.5528\n",
            "Epoch 7/50\n",
            "390/390 [==============================] - 36s 92ms/step - loss: 1.3026 - accuracy: 0.5342 - val_loss: 1.1592 - val_accuracy: 0.5770\n",
            "Epoch 8/50\n",
            "390/390 [==============================] - 36s 91ms/step - loss: 1.2730 - accuracy: 0.5448 - val_loss: 1.0754 - val_accuracy: 0.6084\n",
            "Epoch 9/50\n",
            "390/390 [==============================] - 37s 95ms/step - loss: 1.2461 - accuracy: 0.5546 - val_loss: 1.0373 - val_accuracy: 0.6291\n",
            "Epoch 10/50\n",
            "390/390 [==============================] - 36s 93ms/step - loss: 1.2224 - accuracy: 0.5640 - val_loss: 1.0658 - val_accuracy: 0.6189\n",
            "Epoch 11/50\n",
            "390/390 [==============================] - 36s 92ms/step - loss: 1.2087 - accuracy: 0.5688 - val_loss: 1.0075 - val_accuracy: 0.6385\n",
            "Epoch 12/50\n",
            "390/390 [==============================] - 36s 93ms/step - loss: 1.1881 - accuracy: 0.5748 - val_loss: 1.0146 - val_accuracy: 0.6350\n",
            "Epoch 13/50\n",
            "390/390 [==============================] - 36s 93ms/step - loss: 1.1749 - accuracy: 0.5824 - val_loss: 1.0242 - val_accuracy: 0.6324\n",
            "Epoch 14/50\n",
            "390/390 [==============================] - 37s 94ms/step - loss: 1.1666 - accuracy: 0.5859 - val_loss: 1.0515 - val_accuracy: 0.6249\n",
            "Epoch 15/50\n",
            "390/390 [==============================] - 37s 94ms/step - loss: 1.1388 - accuracy: 0.5946 - val_loss: 0.9401 - val_accuracy: 0.6682\n",
            "Epoch 16/50\n",
            "390/390 [==============================] - 38s 97ms/step - loss: 1.1312 - accuracy: 0.5972 - val_loss: 0.9208 - val_accuracy: 0.6763\n",
            "Epoch 17/50\n",
            "390/390 [==============================] - 35s 91ms/step - loss: 1.1222 - accuracy: 0.6020 - val_loss: 0.9571 - val_accuracy: 0.6598\n",
            "Epoch 18/50\n",
            "390/390 [==============================] - 36s 91ms/step - loss: 1.1172 - accuracy: 0.6050 - val_loss: 0.8601 - val_accuracy: 0.6999\n",
            "Epoch 19/50\n",
            "390/390 [==============================] - 35s 91ms/step - loss: 1.1041 - accuracy: 0.6123 - val_loss: 0.8994 - val_accuracy: 0.6848\n",
            "Epoch 20/50\n",
            "390/390 [==============================] - 36s 91ms/step - loss: 1.0929 - accuracy: 0.6152 - val_loss: 0.8477 - val_accuracy: 0.7016\n",
            "Epoch 21/50\n",
            "390/390 [==============================] - 36s 93ms/step - loss: 1.0841 - accuracy: 0.6145 - val_loss: 0.9141 - val_accuracy: 0.6749\n",
            "Epoch 22/50\n",
            "390/390 [==============================] - 35s 90ms/step - loss: 1.0809 - accuracy: 0.6191 - val_loss: 0.8592 - val_accuracy: 0.6919\n",
            "Epoch 23/50\n",
            "390/390 [==============================] - 37s 93ms/step - loss: 1.0737 - accuracy: 0.6199 - val_loss: 0.8943 - val_accuracy: 0.6811\n",
            "Epoch 24/50\n",
            "390/390 [==============================] - 36s 93ms/step - loss: 1.0685 - accuracy: 0.6236 - val_loss: 0.8770 - val_accuracy: 0.6896\n",
            "Epoch 25/50\n",
            "390/390 [==============================] - 34s 88ms/step - loss: 1.0589 - accuracy: 0.6254 - val_loss: 0.8334 - val_accuracy: 0.7091\n",
            "Epoch 26/50\n",
            "390/390 [==============================] - 36s 92ms/step - loss: 1.0591 - accuracy: 0.6272 - val_loss: 0.8904 - val_accuracy: 0.6851\n",
            "Epoch 27/50\n",
            "390/390 [==============================] - 36s 91ms/step - loss: 1.0433 - accuracy: 0.6315 - val_loss: 0.8105 - val_accuracy: 0.7187\n",
            "Epoch 28/50\n",
            "390/390 [==============================] - 36s 92ms/step - loss: 1.0521 - accuracy: 0.6300 - val_loss: 0.8523 - val_accuracy: 0.6991\n",
            "Epoch 29/50\n",
            "390/390 [==============================] - 36s 92ms/step - loss: 1.0452 - accuracy: 0.6304 - val_loss: 0.8496 - val_accuracy: 0.7045\n",
            "Epoch 30/50\n",
            "390/390 [==============================] - 36s 92ms/step - loss: 1.0436 - accuracy: 0.6308 - val_loss: 0.8688 - val_accuracy: 0.6925\n",
            "Epoch 31/50\n",
            "390/390 [==============================] - 36s 91ms/step - loss: 1.0286 - accuracy: 0.6394 - val_loss: 0.8465 - val_accuracy: 0.6944\n",
            "Epoch 32/50\n",
            "390/390 [==============================] - 35s 88ms/step - loss: 1.0269 - accuracy: 0.6385 - val_loss: 0.8198 - val_accuracy: 0.7123\n",
            "Epoch 33/50\n",
            "390/390 [==============================] - 36s 91ms/step - loss: 1.0273 - accuracy: 0.6403 - val_loss: 0.8725 - val_accuracy: 0.6937\n",
            "Epoch 34/50\n",
            "390/390 [==============================] - 36s 91ms/step - loss: 1.0265 - accuracy: 0.6387 - val_loss: 0.8539 - val_accuracy: 0.6956\n",
            "Epoch 35/50\n",
            "390/390 [==============================] - 35s 89ms/step - loss: 1.0205 - accuracy: 0.6428 - val_loss: 0.8736 - val_accuracy: 0.6881\n",
            "Epoch 36/50\n",
            "390/390 [==============================] - 36s 92ms/step - loss: 1.0190 - accuracy: 0.6424 - val_loss: 0.7899 - val_accuracy: 0.7259\n",
            "Epoch 37/50\n",
            "390/390 [==============================] - 37s 94ms/step - loss: 1.0102 - accuracy: 0.6468 - val_loss: 0.7558 - val_accuracy: 0.7427\n",
            "Epoch 38/50\n",
            "390/390 [==============================] - 36s 91ms/step - loss: 1.0133 - accuracy: 0.6455 - val_loss: 0.8072 - val_accuracy: 0.7127\n",
            "Epoch 39/50\n",
            "390/390 [==============================] - 36s 91ms/step - loss: 1.0091 - accuracy: 0.6472 - val_loss: 0.8277 - val_accuracy: 0.7037\n",
            "Epoch 40/50\n",
            "390/390 [==============================] - 35s 90ms/step - loss: 0.9999 - accuracy: 0.6484 - val_loss: 0.8086 - val_accuracy: 0.7151\n",
            "Epoch 41/50\n",
            "390/390 [==============================] - 36s 91ms/step - loss: 1.0068 - accuracy: 0.6453 - val_loss: 0.7992 - val_accuracy: 0.7204\n",
            "Epoch 42/50\n",
            "390/390 [==============================] - 36s 93ms/step - loss: 0.9938 - accuracy: 0.6503 - val_loss: 0.8465 - val_accuracy: 0.6997\n",
            "Epoch 43/50\n",
            "390/390 [==============================] - 36s 92ms/step - loss: 0.9944 - accuracy: 0.6511 - val_loss: 0.8143 - val_accuracy: 0.7074\n",
            "Epoch 44/50\n",
            "390/390 [==============================] - 37s 95ms/step - loss: 0.9886 - accuracy: 0.6530 - val_loss: 0.7716 - val_accuracy: 0.7357\n",
            "Epoch 45/50\n",
            "390/390 [==============================] - 37s 94ms/step - loss: 0.9814 - accuracy: 0.6538 - val_loss: 0.8048 - val_accuracy: 0.7191\n",
            "Epoch 46/50\n",
            "390/390 [==============================] - 36s 93ms/step - loss: 0.9832 - accuracy: 0.6547 - val_loss: 0.7978 - val_accuracy: 0.7151\n",
            "Epoch 47/50\n",
            "390/390 [==============================] - 36s 93ms/step - loss: 0.9790 - accuracy: 0.6576 - val_loss: 0.8121 - val_accuracy: 0.7141\n"
          ]
        }
      ]
    },
    {
      "cell_type": "markdown",
      "source": [
        "# Evaluate the model"
      ],
      "metadata": {
        "id": "d79eqfcBdqQg"
      }
    },
    {
      "cell_type": "code",
      "source": [
        "test_loss, test_acc = model.evaluate(x_test, y_test, verbose=2)\n",
        "print(\"\\nTest accuracy:\", test_acc)"
      ],
      "metadata": {
        "colab": {
          "base_uri": "https://localhost:8080/"
        },
        "id": "ZritFAhrdssB",
        "outputId": "ecc1b575-f0ca-4fe9-8615-214206dab61a"
      },
      "execution_count": 25,
      "outputs": [
        {
          "output_type": "stream",
          "name": "stdout",
          "text": [
            "313/313 - 1s - loss: 0.7558 - accuracy: 0.7427 - 1s/epoch - 3ms/step\n",
            "\n",
            "Test accuracy: 0.7426999807357788\n"
          ]
        }
      ]
    },
    {
      "cell_type": "markdown",
      "source": [
        "# Plot Graphs"
      ],
      "metadata": {
        "id": "VEsR1SZXgjtJ"
      }
    },
    {
      "cell_type": "code",
      "source": [
        "import matplotlib.pyplot as plt\n",
        "\n",
        "# Plot training & validation loss values\n",
        "plt.figure(figsize=(12, 6))\n",
        "plt.subplot(1, 2, 1)\n",
        "plt.plot(history.history['loss'], label='Training Loss')\n",
        "plt.plot(history.history['val_loss'], label='Validation Loss')\n",
        "plt.title('Model Loss')\n",
        "plt.ylabel('Loss')\n",
        "plt.xlabel('Epoch')\n",
        "plt.legend()\n",
        "\n",
        "# Plot training & validation accuracy values\n",
        "plt.subplot(1, 2, 2)\n",
        "plt.plot(history.history['accuracy'], label='Training Accuracy')\n",
        "plt.plot(history.history['val_accuracy'], label='Validation Accuracy')\n",
        "plt.title('Model Accuracy')\n",
        "plt.ylabel('Accuracy')\n",
        "plt.xlabel('Epoch')\n",
        "plt.legend()\n",
        "\n",
        "plt.tight_layout()\n",
        "plt.show()\n"
      ],
      "metadata": {
        "colab": {
          "base_uri": "https://localhost:8080/",
          "height": 607
        },
        "id": "LS5fPgVtgnqn",
        "outputId": "69a7a2c0-da93-4095-a8ce-2443d3707b3a"
      },
      "execution_count": 26,
      "outputs": [
        {
          "output_type": "display_data",
          "data": {
            "text/plain": [
              "<Figure size 1200x600 with 2 Axes>"
            ],
            "image/png": "[encoded data removed]"
          },
          "metadata": {}
        }
      ]
    }
  ]
}