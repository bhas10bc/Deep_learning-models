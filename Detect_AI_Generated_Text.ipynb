{
  "nbformat": 4,
  "nbformat_minor": 0,
  "metadata": {
    "colab": {
      "provenance": [],
      "gpuType": "T4",
      "authorship_tag": "ABX9TyOBZQskVqeFJXClGkgdfbNH",
      "include_colab_link": true
    },
    "kernelspec": {
      "name": "python3",
      "display_name": "Python 3"
    },
    "language_info": {
      "name": "python"
    },
    "accelerator": "GPU"
  },
  "cells": [
    {
      "cell_type": "markdown",
      "metadata": {
        "id": "view-in-github",
        "colab_type": "text"
      },
      "source": [
        "<a href=\"https://colab.research.google.com/github/bhas10bc/Deep_learning-models/blob/main/Detect_AI_Generated_Text.ipynb\" target=\"_parent\"><img src=\"https://colab.research.google.com/assets/colab-badge.svg\" alt=\"Open In Colab\"/></a>"
      ]
    },
    {
      "cell_type": "code",
      "execution_count": 1,
      "metadata": {
        "id": "1JEa59zCDexA",
        "colab": {
          "base_uri": "https://localhost:8080/"
        },
        "outputId": "f270c68c-9b91-4767-b2ca-42f2cccd2d72"
      },
      "outputs": [
        {
          "output_type": "stream",
          "name": "stdout",
          "text": [
            "Epoch 1/10\n",
            "35/35 [==============================] - 7s 114ms/step - loss: 0.2449 - accuracy: 0.9837 - val_loss: 0.0297 - val_accuracy: 0.9964\n",
            "Epoch 2/10\n",
            "35/35 [==============================] - 4s 106ms/step - loss: 0.0155 - accuracy: 0.9982 - val_loss: 0.0269 - val_accuracy: 0.9964\n",
            "Epoch 3/10\n",
            "35/35 [==============================] - 4s 121ms/step - loss: 0.0151 - accuracy: 0.9982 - val_loss: 0.0253 - val_accuracy: 0.9964\n",
            "Epoch 4/10\n",
            "35/35 [==============================] - 3s 92ms/step - loss: 0.0139 - accuracy: 0.9982 - val_loss: 0.0254 - val_accuracy: 0.9964\n",
            "Epoch 5/10\n",
            "35/35 [==============================] - 3s 88ms/step - loss: 0.0140 - accuracy: 0.9982 - val_loss: 0.0245 - val_accuracy: 0.9964\n",
            "Epoch 6/10\n",
            "35/35 [==============================] - 4s 117ms/step - loss: 0.0133 - accuracy: 0.9982 - val_loss: 0.0248 - val_accuracy: 0.9964\n",
            "Epoch 7/10\n",
            "35/35 [==============================] - 4s 105ms/step - loss: 0.0132 - accuracy: 0.9982 - val_loss: 0.0252 - val_accuracy: 0.9964\n",
            "Epoch 8/10\n",
            "35/35 [==============================] - 3s 91ms/step - loss: 0.0130 - accuracy: 0.9982 - val_loss: 0.0248 - val_accuracy: 0.9964\n",
            "Epoch 9/10\n",
            "35/35 [==============================] - 3s 97ms/step - loss: 0.0128 - accuracy: 0.9982 - val_loss: 0.0243 - val_accuracy: 0.9964\n",
            "Epoch 10/10\n",
            "35/35 [==============================] - 4s 129ms/step - loss: 0.0123 - accuracy: 0.9982 - val_loss: 0.0249 - val_accuracy: 0.9964\n",
            "1/1 [==============================] - 0s 449ms/step\n"
          ]
        }
      ],
      "source": [
        "import pandas as pd\n",
        "import numpy as np\n",
        "import tensorflow as tf\n",
        "from tensorflow import keras\n",
        "from tensorflow.keras.preprocessing.text import Tokenizer\n",
        "from tensorflow.keras.preprocessing.sequence import pad_sequences\n",
        "from sklearn.model_selection import train_test_split\n",
        "\n",
        "# Load the dataset\n",
        "train_essays = pd.read_csv('train_essays.csv')\n",
        "test_essays = pd.read_csv('test_essays.csv')\n",
        "train_prompts = pd.read_csv('train_prompts.csv')\n",
        "\n",
        "# Merge essay data with corresponding prompts\n",
        "train_data = train_essays.merge(train_prompts, on='prompt_id', how='left')\n",
        "\n",
        "# Preprocess the text data\n",
        "max_length = 100  # Maximum sequence length\n",
        "vocab_size = 10000  # Vocabulary size\n",
        "embedding_dim = 128  # Embedding dimension\n",
        "\n",
        "# Tokenize the text\n",
        "tokenizer = Tokenizer(num_words=vocab_size, oov_token=\"<OOV>\")\n",
        "tokenizer.fit_on_texts(train_data['text'])\n",
        "\n",
        "# Convert text to sequences\n",
        "X = tokenizer.texts_to_sequences(train_data['text'])\n",
        "X_test = tokenizer.texts_to_sequences(test_essays['text'])\n",
        "\n",
        "# Pad sequences to a fixed length\n",
        "X = pad_sequences(X, maxlen=max_length, padding='post', truncating='post')\n",
        "X_test = pad_sequences(X_test, maxlen=max_length, padding='post', truncating='post')\n",
        "\n",
        "# Labels\n",
        "y = train_data['generated']\n",
        "\n",
        "# Split the data into training and validation sets\n",
        "X_train, X_valid, y_train, y_valid = train_test_split(X, y, test_size=0.2, random_state=42)\n",
        "\n",
        "# Define the model\n",
        "model = keras.Sequential()\n",
        "model.add(keras.layers.Embedding(input_dim=vocab_size, output_dim=embedding_dim, input_length=max_length))\n",
        "model.add(keras.layers.LSTM(64))\n",
        "model.add(keras.layers.Dense(64, activation='relu'))\n",
        "model.add(keras.layers.Dense(1, activation='sigmoid'))\n",
        "\n",
        "# Compile the model\n",
        "model.compile(loss='binary_crossentropy', optimizer='adam', metrics=['accuracy'])\n",
        "\n",
        "# Train the model\n",
        "model.fit(X_train, y_train, epochs=10, batch_size=32, validation_data=(X_valid, y_valid))\n",
        "\n",
        "# Make predictions on the test data\n",
        "predictions = model.predict(X_test)\n",
        "\n",
        "# Prepare submission file\n",
        "submission = pd.DataFrame({'id': test_essays['id'], 'generated': predictions.reshape(-1)})\n",
        "submission.to_csv('submission.csv', index=False)\n"
      ]
    }
  ]
}